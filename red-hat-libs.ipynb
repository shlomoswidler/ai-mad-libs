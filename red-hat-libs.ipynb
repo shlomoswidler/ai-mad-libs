{
 "cells": [
  {
   "cell_type": "markdown",
   "metadata": {},
   "source": [
    "# Red Hat Libs\n",
    "\n",
    "From an arbitrary English text, produce a __Mad Libs__-style result: Replace some parts of speech in the original text with corresponding parts of speech from a dictionary. The number of blanks — that is, the number of words that will be replaced from words in the dictionary — is controlled by the **Madness** setting.\n",
    "\n",
    "## To begin - first choose \"Cell > Run All\" from the menu, then [Click here to play](#Play-Red-Hat-Libs)\n",
    "\n",
    "## What's going on here?\n",
    "\n",
    "This Jupyter Notebook uses the NLTK library to [tokenize and tag parts of speech](#Under-the-hood:-Tag-the-parts-of-speech). Next, we [choose which words to turn into blanks](#Under-the-hood:-Create-blanks-in-the-tagged-text). Then we [choose replacement words from the dictionary](#Under-the-hood:-Choose-replacement-words-from-the-dictionary) and [display the resulting combined text](#Under-the-hood:-Display-the-original-text-with-the-chosen-substitutions)."
   ]
  },
  {
   "cell_type": "code",
   "execution_count": 20,
   "metadata": {},
   "outputs": [
    {
     "name": "stdout",
     "output_type": "stream",
     "text": [
      "Requirement already satisfied: nltk in /opt/app-root/lib/python3.6/site-packages (3.5)\n",
      "Requirement already satisfied: click in /opt/app-root/lib/python3.6/site-packages (from nltk) (7.0)\n",
      "Requirement already satisfied: tqdm in /opt/app-root/lib/python3.6/site-packages (from nltk) (4.54.1)\n",
      "Requirement already satisfied: regex in /opt/app-root/lib/python3.6/site-packages (from nltk) (2020.11.13)\n",
      "Requirement already satisfied: joblib in /opt/app-root/lib/python3.6/site-packages (from nltk) (0.13.2)\n",
      "\u001b[33mWARNING: You are using pip version 19.2.1, however version 20.3.3 is available.\n",
      "You should consider upgrading via the 'pip install --upgrade pip' command.\u001b[0m\n",
      "Note: you may need to restart the kernel to use updated packages.\n"
     ]
    }
   ],
   "source": [
    "pip install nltk"
   ]
  },
  {
   "cell_type": "code",
   "execution_count": 28,
   "metadata": {},
   "outputs": [
    {
     "name": "stderr",
     "output_type": "stream",
     "text": [
      "[nltk_data] Downloading package tagsets to /opt/app-\n",
      "[nltk_data]     root/src/nltk_data...\n",
      "[nltk_data]   Package tagsets is already up-to-date!\n",
      "[nltk_data] Downloading package punkt to /opt/app-\n",
      "[nltk_data]     root/src/nltk_data...\n",
      "[nltk_data]   Package punkt is already up-to-date!\n",
      "[nltk_data] Downloading package averaged_perceptron_tagger to\n",
      "[nltk_data]     /opt/app-root/src/nltk_data...\n",
      "[nltk_data]   Package averaged_perceptron_tagger is already up-to-\n",
      "[nltk_data]       date!\n"
     ]
    }
   ],
   "source": [
    "# Set up the environment\n",
    "import nltk\n",
    "\n",
    "import ipywidgets as widgets\n",
    "from IPython.display import display, Javascript\n",
    "\n",
    "defaultSourceText = \"\"\"Oh say can you see, by the dawn's early light, what so proudly we hailed at the twilight's last gleaming?\"\"\"\n",
    "defaultDictionaryName = \"shakespeareDict.txt\"\n",
    "\n",
    "if get_ipython():\n",
    "    nltk.download('tagsets')\n",
    "    nltk.download('punkt')\n",
    "    nltk.download('averaged_perceptron_tagger')\n",
    "    \n",
    "# populate the user-friendly terminology for parts of speech\n",
    "posDict = {}\n",
    "with open(\"nltk-tagsets-pos.txt\") as f:\n",
    "    for line in f:\n",
    "        row = line.split(\" : \")\n",
    "        key = row[0]\n",
    "        val = row[1]\n",
    "        posDict[key] = val.strip()\n",
    "\n",
    "# populate the list of dictionaries\n",
    "dictDict = {}\n",
    "with open(\"dictionaries.db\") as f:\n",
    "    for line in f:\n",
    "        row = line.split(\" : \")\n",
    "        key = row[1].strip()\n",
    "        val = row[0].strip()\n",
    "        dictDict[key] = val\n",
    "\n",
    "def human_readable_pos_tagged_tuple( tupe ): # a tuple\n",
    "    word, pos = tupe\n",
    "    if pos in posDict:\n",
    "        pos = posDict[pos]\n",
    "    else:\n",
    "        pos = \"stet\"\n",
    "    return ( word, pos )\n",
    "\n",
    "pos_tagged_list = list()\n",
    "template = list()\n",
    "dictionary = {}\n",
    "filled_template = list()\n",
    "\n",
    "# set up UI elements\n",
    "sourceTextInput = widgets.Textarea(value=defaultSourceText, description='Source text:')\n",
    "sourceTextInput.layout.height = '130px'\n",
    "sourceTextInput.layout.width = '100%'\n",
    "madnessSlider = widgets.IntSlider(min=0, max=10, step=1, description='Madness:', value=3)\n",
    "dictChooser = widgets.Dropdown(options=dictDict, description=\"Dictionary:\")\n",
    "tagButton = widgets.Button(description=\"Click to play Red Hat Libs\")\n",
    "tagButton.layout.width = '200px'\n",
    "def run_all_below(ev):\n",
    "    display(Javascript('IPython.notebook.execute_cells_below()'))\n",
    "tagButton.on_click(run_all_below)"
   ]
  },
  {
   "cell_type": "markdown",
   "metadata": {},
   "source": [
    "## Play Red Hat Libs"
   ]
  },
  {
   "cell_type": "code",
   "execution_count": 22,
   "metadata": {
    "scrolled": false
   },
   "outputs": [
    {
     "data": {
      "application/vnd.jupyter.widget-view+json": {
       "model_id": "70f3efc90a114a46a44caf1007c45aa4",
       "version_major": 2,
       "version_minor": 0
      },
      "text/plain": [
       "Textarea(value=\"Oh say can you see, by the dawn's early light, what so proudly we hailed at the twilight's las…"
      ]
     },
     "metadata": {},
     "output_type": "display_data"
    },
    {
     "data": {
      "application/vnd.jupyter.widget-view+json": {
       "model_id": "6e596962af2a4cb49d30b9cd426f99ed",
       "version_major": 2,
       "version_minor": 0
      },
      "text/plain": [
       "IntSlider(value=3, description='Madness:', max=10)"
      ]
     },
     "metadata": {},
     "output_type": "display_data"
    },
    {
     "data": {
      "application/vnd.jupyter.widget-view+json": {
       "model_id": "669733f68c21404f8c07de5f5f4c2042",
       "version_major": 2,
       "version_minor": 0
      },
      "text/plain": [
       "Dropdown(description='Dictionary:', options={'The Works of Shakespeare': 'shakespeareDict.txt', 'A Tale of Two…"
      ]
     },
     "metadata": {},
     "output_type": "display_data"
    },
    {
     "data": {
      "application/vnd.jupyter.widget-view+json": {
       "model_id": "6f5cd3f445984e6c9d5b4007fdfc0561",
       "version_major": 2,
       "version_minor": 0
      },
      "text/plain": [
       "Button(description='Click to play Red Hat Libs', layout=Layout(width='200px'), style=ButtonStyle())"
      ]
     },
     "metadata": {},
     "output_type": "display_data"
    },
    {
     "data": {
      "text/markdown": [
       "**Results:**"
      ],
      "text/plain": [
       "<IPython.core.display.Markdown object>"
      ]
     },
     "metadata": {},
     "output_type": "display_data"
    },
    {
     "data": {
      "text/markdown": [
       "Oh say can you SUFFER'D , by the FOIST 's BOSOMS-THIS light , what so TENDER we hailed at the twilight 's last gleaming ? "
      ],
      "text/plain": [
       "<IPython.core.display.Markdown object>"
      ]
     },
     "metadata": {},
     "output_type": "display_data"
    }
   ],
   "source": [
    "from IPython.display import Markdown\n",
    "\n",
    "display(sourceTextInput)\n",
    "display(madnessSlider)\n",
    "display(dictChooser)\n",
    "display(tagButton)\n",
    "display(Markdown(\"**Results:**\"))\n",
    "resultsHandle = display(display_id=True)\n",
    "resultsHandle.display(Markdown(\"_no results_\"))"
   ]
  },
  {
   "cell_type": "markdown",
   "metadata": {},
   "source": [
    "## Under the hood: Tag the parts of speech"
   ]
  },
  {
   "cell_type": "code",
   "execution_count": 23,
   "metadata": {},
   "outputs": [
    {
     "name": "stdout",
     "output_type": "stream",
     "text": [
      "[('Oh', 'exclamation'), ('say', 'verb'), ('can', 'stet'), ('you', 'stet'), ('see', 'verb'), (',', 'stet'), ('by', 'preposition'), ('the', 'stet'), ('dawn', 'noun (singular)'), (\"'s\", 'stet'), ('early', 'adjective'), ('light', 'noun (singular)'), (',', 'stet'), ('what', 'stet'), ('so', 'adverb'), ('proudly', 'adverb'), ('we', 'stet'), ('hailed', 'past tense verb'), ('at', 'preposition'), ('the', 'stet'), ('twilight', 'noun (singular)'), (\"'s\", 'stet'), ('last', 'adjective'), ('gleaming', 'noun (singular)'), ('?', 'stet')]\n"
     ]
    }
   ],
   "source": [
    "def tag_parts_of_speech(sourceText=sourceTextInput.value):\n",
    "\n",
    "    Sentence = nltk.word_tokenize(sourceText)\n",
    "    posTagged = nltk.pos_tag(Sentence)\n",
    "\n",
    "    resultList = map(human_readable_pos_tagged_tuple, posTagged)\n",
    "    pos_tagged_list.clear()\n",
    "    pos_tagged_list.extend(resultList)\n",
    "    print(pos_tagged_list)\n",
    "    \n",
    "tag_parts_of_speech()"
   ]
  },
  {
   "cell_type": "markdown",
   "metadata": {},
   "source": [
    "## Under the hood: Create blanks in the tagged text\n",
    "\n",
    "The **Madness** setting controls how many blanks will be created."
   ]
  },
  {
   "cell_type": "code",
   "execution_count": 24,
   "metadata": {
    "scrolled": false
   },
   "outputs": [
    {
     "name": "stdout",
     "output_type": "stream",
     "text": [
      "Madness level 3 - creating 4 blanks from among 14 candidates\n",
      "[(4, 'verb'), (8, 'noun (singular)'), (10, 'adjective'), (15, 'adverb')]\n"
     ]
    }
   ],
   "source": [
    "import random\n",
    "\n",
    "def create_blanks_from_pos_tagged_list(madness=madnessSlider.value):\n",
    "    def indexed_pos_tuple(tupe, num ):\n",
    "        return ( num, tupe[1] )\n",
    "\n",
    "    indexed_list = map(indexed_pos_tuple, pos_tagged_list, range(len(pos_tagged_list)))\n",
    "    indexed_pos_list = map(indexed_pos_tuple, pos_tagged_list, range(len(pos_tagged_list)))\n",
    "    non_stet_indexed_pos_list = list(filter(lambda t: 1 * (t[1]!=\"stet\"), indexed_pos_list))\n",
    "    num_candidates = len(non_stet_indexed_pos_list)\n",
    "    blanks = list()\n",
    "    if (madness > 10): # error avoidance\n",
    "        madness = 10\n",
    "    num_desired_blanks = int(float(madness/10) * num_candidates)\n",
    "    print(\"Madness level\", madness, \"- creating\", num_desired_blanks, \"blanks from among\", num_candidates, \"candidates\")\n",
    "    if (madness > 0):\n",
    "        blanks = random.sample(non_stet_indexed_pos_list, num_desired_blanks)\n",
    "        blanks.sort(key = lambda tup: tup[0])\n",
    "\n",
    "    template.clear()\n",
    "    template.extend(blanks)\n",
    "    print(template)\n",
    "\n",
    "create_blanks_from_pos_tagged_list()"
   ]
  },
  {
   "cell_type": "markdown",
   "metadata": {},
   "source": [
    "## Under the hood: Choose replacement words from the dictionary\n",
    "\n",
    "The **Dictionary** dropdown controls which dictionary is used."
   ]
  },
  {
   "cell_type": "code",
   "execution_count": 25,
   "metadata": {},
   "outputs": [
    {
     "name": "stdout",
     "output_type": "stream",
     "text": [
      "Dictionary shakespeareDict.txt has 74 entries for exclamation\n",
      "Dictionary shakespeareDict.txt has 262 entries for comparitive adjective\n",
      "Dictionary shakespeareDict.txt has 2450 entries for verb, past participle\n",
      "Dictionary shakespeareDict.txt has 4875 entries for plural noun\n",
      "Dictionary shakespeareDict.txt has 2516 entries for verb (3rd person singular, present tense)\n",
      "Dictionary shakespeareDict.txt has 12982 entries for noun (singular)\n",
      "Dictionary shakespeareDict.txt has 7695 entries for proper noun (singular)\n",
      "Dictionary shakespeareDict.txt has 651 entries for preposition\n",
      "Dictionary shakespeareDict.txt has 1986 entries for past tense verb\n",
      "Dictionary shakespeareDict.txt has 221 entries for proper noun (plural)\n",
      "Dictionary shakespeareDict.txt has 950 entries for stet\n",
      "Dictionary shakespeareDict.txt has 8947 entries for adjective\n",
      "Dictionary shakespeareDict.txt has 15 entries for superlative adverb\n",
      "Dictionary shakespeareDict.txt has 51 entries for comparative adverb\n",
      "Dictionary shakespeareDict.txt has 302 entries for superlative adjective\n",
      "Dictionary shakespeareDict.txt has 592 entries for number\n",
      "Dictionary shakespeareDict.txt has 1973 entries for adverb\n",
      "Dictionary shakespeareDict.txt has 5516 entries for verb\n",
      "Dictionary shakespeareDict.txt has 1434 entries for verb ending in 'ing'\n"
     ]
    }
   ],
   "source": [
    "def load_dictionary(file_name=dictChooser.value):\n",
    "    new_dict = {}\n",
    "    with open(file_name) as f:\n",
    "        for line in f:\n",
    "            if (line == \"<dictionary>\\n\" or line == \"</dictionary>\\n\"):\n",
    "                continue\n",
    "            row = line.split(\" : \")\n",
    "            key = row[0]\n",
    "            val = row[1]\n",
    "            new_dict[key] = val.split(\", \")\n",
    "    dictionary.clear()\n",
    "    dictionary.update(new_dict)\n",
    "    for entry in dictionary:\n",
    "        print(\"Dictionary\" , file_name , \"has\" , len(dictionary[entry]) , \"entries for\", entry)\n",
    "        \n",
    "load_dictionary()"
   ]
  },
  {
   "cell_type": "code",
   "execution_count": 26,
   "metadata": {},
   "outputs": [
    {
     "name": "stdout",
     "output_type": "stream",
     "text": [
      "[(4, \"SUFFER'D\", 'verb'), (8, 'FOIST', 'noun (singular)'), (10, 'BOSOMS-THIS', 'adjective'), (15, 'TENDER', 'adverb')]\n"
     ]
    }
   ],
   "source": [
    "def choose_replacements_from_dictionary():\n",
    "    new_choices = list()\n",
    "    pos_counts = {}\n",
    "    for tupe in template:\n",
    "        pos = tupe[1]\n",
    "        if pos in pos_counts:\n",
    "            pos_counts[pos] = pos_counts[pos] + 1\n",
    "        else:\n",
    "            pos_counts[pos] = 1\n",
    "\n",
    "    chosen_pos = {}\n",
    "    for requested_pos in pos_counts:\n",
    "        chosen_pos[requested_pos] = random.sample(dictionary[requested_pos], pos_counts[requested_pos])\n",
    "    \n",
    "    for tupe in template:\n",
    "        new_choices.append( ( tupe[0], chosen_pos[tupe[1]].pop(), tupe[1] ) )\n",
    "    filled_template.clear()\n",
    "    filled_template.extend(new_choices)\n",
    "    print(filled_template)\n",
    "    \n",
    "choose_replacements_from_dictionary()"
   ]
  },
  {
   "cell_type": "markdown",
   "metadata": {},
   "source": [
    "## Under the hood: Display the original text with the chosen substitutions"
   ]
  },
  {
   "cell_type": "code",
   "execution_count": 27,
   "metadata": {},
   "outputs": [
    {
     "data": {
      "text/markdown": [
       "### Inputs"
      ],
      "text/plain": [
       "<IPython.core.display.Markdown object>"
      ]
     },
     "metadata": {},
     "output_type": "display_data"
    },
    {
     "data": {
      "text/markdown": [
       "__Source text:__ Oh say can you see, by the dawn's early light, what so proudly we hailed at the twilight's last gleaming?"
      ],
      "text/plain": [
       "<IPython.core.display.Markdown object>"
      ]
     },
     "metadata": {},
     "output_type": "display_data"
    },
    {
     "data": {
      "text/markdown": [
       "__Madness:__ 3"
      ],
      "text/plain": [
       "<IPython.core.display.Markdown object>"
      ]
     },
     "metadata": {},
     "output_type": "display_data"
    },
    {
     "data": {
      "text/markdown": [
       "__Dictionary:__ The Works of Shakespeare"
      ],
      "text/plain": [
       "<IPython.core.display.Markdown object>"
      ]
     },
     "metadata": {},
     "output_type": "display_data"
    },
    {
     "data": {
      "text/markdown": [
       "### Results"
      ],
      "text/plain": [
       "<IPython.core.display.Markdown object>"
      ]
     },
     "metadata": {},
     "output_type": "display_data"
    },
    {
     "data": {
      "text/markdown": [
       "Oh say can you SUFFER'D , by the FOIST 's BOSOMS-THIS light , what so TENDER we hailed at the twilight 's last gleaming ? "
      ],
      "text/plain": [
       "<IPython.core.display.Markdown object>"
      ]
     },
     "metadata": {},
     "output_type": "display_data"
    },
    {
     "data": {
      "text/markdown": [
       "[Play again](#Play-Red-Hat-Libs)"
      ],
      "text/plain": [
       "<IPython.core.display.Markdown object>"
      ]
     },
     "metadata": {},
     "output_type": "display_data"
    }
   ],
   "source": [
    "blankDelim = \"<u>&nbsp;&nbsp;&nbsp;\"\n",
    "blankEndDelim=\"&nbsp;&nbsp;&nbsp;</u>\"\n",
    "def fill_pos_tagged_list_with_filled_template():\n",
    "    text = \"\"\n",
    "    wordIdx = 0\n",
    "    blankIdx = 0\n",
    "    nextBlank = -1\n",
    "    if (len(filled_template) > 0):\n",
    "        nextBlank = filled_template[blankIdx][0]\n",
    "    for tupe in pos_tagged_list:\n",
    "        word = tupe[0]\n",
    "        delim = \"\"\n",
    "        endDelim = \"\"\n",
    "        if (wordIdx == nextBlank):\n",
    "            if (len(filled_template[blankIdx]) == 2): # it's an empty template, no filled words chosen\n",
    "                delim = blankDelim\n",
    "                endDelim = blankEndDelim\n",
    "            word = filled_template[blankIdx][1]\n",
    "            blankIdx += 1\n",
    "            if (blankIdx < len(filled_template)):\n",
    "                nextBlank = filled_template[blankIdx][0]\n",
    "            else:\n",
    "                nextBlank = -1\n",
    "        text = text + delim + word + endDelim + \" \"\n",
    "        wordIdx += 1\n",
    "\n",
    "    if (len(text) == 0):\n",
    "        text = \"_no results_\"\n",
    "    return text\n",
    "\n",
    "display(Markdown(\"### Inputs\"))\n",
    "display(Markdown(\"__Source text:__ \" + sourceTextInput.value))\n",
    "display(Markdown(\"__Madness:__ \" + str(madnessSlider.value)))\n",
    "display(Markdown(\"__Dictionary:__ \" + dictChooser.label))\n",
    "display(Markdown(\"### Results\"))\n",
    "\n",
    "txt = fill_pos_tagged_list_with_filled_template()  \n",
    "m = Markdown(txt)\n",
    "resultsHandle.update(m)\n",
    "display(m)\n",
    "display(Markdown(\"[Play again](#Play-Red-Hat-Libs)\"))"
   ]
  }
 ],
 "metadata": {
  "kernelspec": {
   "display_name": "Python 3",
   "language": "python",
   "name": "python3"
  },
  "language_info": {
   "codemirror_mode": {
    "name": "ipython",
    "version": 3
   },
   "file_extension": ".py",
   "mimetype": "text/x-python",
   "name": "python",
   "nbconvert_exporter": "python",
   "pygments_lexer": "ipython3",
   "version": "3.6.3"
  }
 },
 "nbformat": 4,
 "nbformat_minor": 4
}
