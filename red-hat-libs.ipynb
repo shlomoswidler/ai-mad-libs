{
 "cells": [
  {
   "cell_type": "markdown",
   "metadata": {},
   "source": [
    "# Red Hat Libs\n",
    "\n",
    "From an arbitrary English text, produce a __Mad Libs__-style result: Replace some parts of speech in the original text with corresponding parts of speech from a dictionary. The number of blanks — that is, the number of words that will be replaced from words in the dictionary — is controlled by the **Madness** setting.\n",
    "\n",
    "## To begin - first choose \"Cell > Run All\" from the menu, then [Click here to play](#Play-Red-Hat-Libs)\n",
    "\n",
    "## What's going on here?\n",
    "\n",
    "This Jupyter Notebook uses the NLTK library to [tokenize and tag parts of speech](#Under-the-hood:-Tag-the-parts-of-speech). Next, we [choose which words to turn into blanks](#Under-the-hood:-Create-blanks-in-the-tagged-text). Then we [choose replacement words from the dictionary](#Under-the-hood:-Choose-replacement-words-from-the-dictionary) and [display the resulting combined text](#Under-the-hood:-Display-the-original-text-with-the-chosen-substitutions)."
   ]
  },
  {
   "cell_type": "code",
   "execution_count": null,
   "metadata": {},
   "outputs": [],
   "source": [
    "pip install nltk"
   ]
  },
  {
   "cell_type": "code",
   "execution_count": null,
   "metadata": {},
   "outputs": [],
   "source": [
    "# Set up the environment\n",
    "import nltk\n",
    "\n",
    "import ipywidgets as widgets\n",
    "from IPython.display import display\n",
    "\n",
    "defaultSourceText = \"\"\"Oh say can you see, by the dawn's early light, what so proudly we hailed at the twilight's last gleaming?\"\"\"\n",
    "defaultDictionaryName = \"shakespeareDict.txt\"\n",
    "\n",
    "if get_ipython():\n",
    "    nltk.download('tagsets')\n",
    "    nltk.download('punkt')\n",
    "    nltk.download('averaged_perceptron_tagger')\n",
    "    \n",
    "# populate the user-friendly terminology for parts of speech\n",
    "posDict = {}\n",
    "with open(\"nltk-tagsets-pos.txt\") as f:\n",
    "    for line in f:\n",
    "        row = line.split(\" : \")\n",
    "        key = row[0]\n",
    "        val = row[1]\n",
    "        posDict[key] = val.strip()\n",
    "\n",
    "# populate the list of dictionaries\n",
    "dictDict = {}\n",
    "with open(\"dictionaries.db\") as f:\n",
    "    for line in f:\n",
    "        row = line.split(\" : \")\n",
    "        key = row[1].strip()\n",
    "        val = row[0].strip()\n",
    "        dictDict[key] = val\n",
    "\n",
    "def human_readable_pos_tagged_tuple( tupe ): # a tuple\n",
    "    word, pos = tupe\n",
    "    if pos in posDict:\n",
    "        pos = posDict[pos]\n",
    "    else:\n",
    "        pos = \"stet\"\n",
    "    return ( word, pos )\n",
    "\n",
    "pos_tagged_list = list()\n",
    "template = list()\n",
    "dictionary = {}\n",
    "filled_template = list()\n",
    "\n",
    "# set up UI elements\n",
    "sourceTextInput = widgets.Textarea(value=defaultSourceText, description='Source text:')\n",
    "sourceTextInput.layout.height = '130px'\n",
    "sourceTextInput.layout.width = '100%'\n",
    "madnessSlider = widgets.IntSlider(min=0, max=10, step=1, description='Madness:', value=3)\n",
    "dictChooser = widgets.Dropdown(options=dictDict, description=\"Dictionary:\")\n",
    "tagButton = widgets.Button(description=\"Click to play Red Hat Libs\")\n",
    "tagButton.layout.width = '200px'\n",
    "def run_all_below(ev):\n",
    "    display(Javascript('IPython.notebook.execute_cells_below()'))\n",
    "tagButton.on_click(run_all_below)"
   ]
  },
  {
   "cell_type": "markdown",
   "metadata": {},
   "source": [
    "## Play Red Hat Libs"
   ]
  },
  {
   "cell_type": "code",
   "execution_count": null,
   "metadata": {
    "scrolled": false
   },
   "outputs": [],
   "source": [
    "from IPython.display import Markdown, Javascript\n",
    "\n",
    "display(sourceTextInput)\n",
    "display(madnessSlider)\n",
    "display(dictChooser)\n",
    "display(tagButton)\n",
    "display(Markdown(\"**Results:**\"))\n",
    "resultsHandle = display(display_id=True)\n",
    "resultsHandle.display(Markdown(\"_no results_\"))"
   ]
  },
  {
   "cell_type": "markdown",
   "metadata": {},
   "source": [
    "## Under the hood: Tag the parts of speech"
   ]
  },
  {
   "cell_type": "code",
   "execution_count": null,
   "metadata": {},
   "outputs": [],
   "source": [
    "def tag_parts_of_speech(sourceText=sourceTextInput.value):\n",
    "\n",
    "    Sentence = nltk.word_tokenize(sourceText)\n",
    "    posTagged = nltk.pos_tag(Sentence)\n",
    "\n",
    "    resultList = map(human_readable_pos_tagged_tuple, posTagged)\n",
    "    pos_tagged_list.clear()\n",
    "    pos_tagged_list.extend(resultList)\n",
    "    print(pos_tagged_list)\n",
    "    \n",
    "tag_parts_of_speech()"
   ]
  },
  {
   "cell_type": "markdown",
   "metadata": {},
   "source": [
    "## Under the hood: Create blanks in the tagged text\n",
    "\n",
    "The **Madness** setting controls how many blanks will be created."
   ]
  },
  {
   "cell_type": "code",
   "execution_count": null,
   "metadata": {
    "scrolled": false
   },
   "outputs": [],
   "source": [
    "import random\n",
    "\n",
    "def create_blanks_from_pos_tagged_list(madness=madnessSlider.value):\n",
    "    def indexed_pos_tuple(tupe, num ):\n",
    "        return ( num, tupe[1] )\n",
    "\n",
    "    indexed_list = map(indexed_pos_tuple, pos_tagged_list, range(len(pos_tagged_list)))\n",
    "    indexed_pos_list = map(indexed_pos_tuple, pos_tagged_list, range(len(pos_tagged_list)))\n",
    "    non_stet_indexed_pos_list = list(filter(lambda t: 1 * (t[1]!=\"stet\"), indexed_pos_list))\n",
    "    num_candidates = len(non_stet_indexed_pos_list)\n",
    "    blanks = list()\n",
    "    if (madness > 10): # error avoidance\n",
    "        madness = 10\n",
    "    num_desired_blanks = int(float(madness/10) * num_candidates)\n",
    "    print(\"Madness level\", madness, \"- creating\", num_desired_blanks, \"blanks from among\", num_candidates, \"candidates\")\n",
    "    if (madness > 0):\n",
    "        blanks = random.sample(non_stet_indexed_pos_list, num_desired_blanks)\n",
    "        blanks.sort(key = lambda tup: tup[0])\n",
    "\n",
    "    template.clear()\n",
    "    template.extend(blanks)\n",
    "    print(template)\n",
    "\n",
    "create_blanks_from_pos_tagged_list()"
   ]
  },
  {
   "cell_type": "markdown",
   "metadata": {},
   "source": [
    "## Under the hood: Choose replacement words from the dictionary\n",
    "\n",
    "The **Dictionary** dropdown controls which dictionary is used."
   ]
  },
  {
   "cell_type": "code",
   "execution_count": null,
   "metadata": {},
   "outputs": [],
   "source": [
    "def load_dictionary(file_name=dictChooser.value):\n",
    "    new_dict = {}\n",
    "    with open(file_name) as f:\n",
    "        for line in f:\n",
    "            if (line == \"<dictionary>\\n\" or line == \"</dictionary>\\n\"):\n",
    "                continue\n",
    "            row = line.split(\" : \")\n",
    "            key = row[0]\n",
    "            val = row[1]\n",
    "            new_dict[key] = val.split(\", \")\n",
    "    dictionary.clear()\n",
    "    dictionary.update(new_dict)\n",
    "    for entry in dictionary:\n",
    "        print(\"Dictionary\" , file_name , \"has\" , len(dictionary[entry]) , \"entries for\", entry)\n",
    "        \n",
    "load_dictionary()"
   ]
  },
  {
   "cell_type": "code",
   "execution_count": null,
   "metadata": {},
   "outputs": [],
   "source": [
    "def choose_replacements_from_dictionary():\n",
    "    new_choices = list()\n",
    "    pos_counts = {}\n",
    "    for tupe in template:\n",
    "        pos = tupe[1]\n",
    "        if pos in pos_counts:\n",
    "            pos_counts[pos] = pos_counts[pos] + 1\n",
    "        else:\n",
    "            pos_counts[pos] = 1\n",
    "\n",
    "    chosen_pos = {}\n",
    "    for requested_pos in pos_counts:\n",
    "        chosen_pos[requested_pos] = random.sample(dictionary[requested_pos], pos_counts[requested_pos])\n",
    "    \n",
    "    for tupe in template:\n",
    "        new_choices.append( ( tupe[0], chosen_pos[tupe[1]].pop(), tupe[1] ) )\n",
    "    filled_template.clear()\n",
    "    filled_template.extend(new_choices)\n",
    "    print(filled_template)\n",
    "    \n",
    "choose_replacements_from_dictionary()"
   ]
  },
  {
   "cell_type": "markdown",
   "metadata": {},
   "source": [
    "## Under the hood: Display the original text with the chosen substitutions"
   ]
  },
  {
   "cell_type": "code",
   "execution_count": null,
   "metadata": {},
   "outputs": [],
   "source": [
    "blankDelim = \"<u>&nbsp;&nbsp;&nbsp;\"\n",
    "blankEndDelim=\"&nbsp;&nbsp;&nbsp;</u>\"\n",
    "def fill_pos_tagged_list_with_filled_template():\n",
    "    text = \"\"\n",
    "    wordIdx = 0\n",
    "    blankIdx = 0\n",
    "    nextBlank = -1\n",
    "    if (len(filled_template) > 0):\n",
    "        nextBlank = filled_template[blankIdx][0]\n",
    "    for tupe in pos_tagged_list:\n",
    "        word = tupe[0]\n",
    "        delim = \"\"\n",
    "        endDelim = \"\"\n",
    "        if (wordIdx == nextBlank):\n",
    "            if (len(filled_template[blankIdx]) == 2): # it's an empty template, no filled words chosen\n",
    "                delim = blankDelim\n",
    "                endDelim = blankEndDelim\n",
    "            word = filled_template[blankIdx][1]\n",
    "            blankIdx += 1\n",
    "            if (blankIdx < len(filled_template)):\n",
    "                nextBlank = filled_template[blankIdx][0]\n",
    "            else:\n",
    "                nextBlank = -1\n",
    "        text = text + delim + word + endDelim + \" \"\n",
    "        wordIdx += 1\n",
    "\n",
    "    if (len(text) == 0):\n",
    "        text = \"_no results_\"\n",
    "    return text\n",
    "\n",
    "display(Markdown(\"### Inputs\"))\n",
    "display(Markdown(\"__Source text:__ \" + sourceTextInput.value))\n",
    "display(Markdown(\"__Madness:__ \" + str(madnessSlider.value)))\n",
    "display(Markdown(\"__Dictionary:__ \" + dictChooser.label))\n",
    "display(Markdown(\"### Results\"))\n",
    "\n",
    "txt = fill_pos_tagged_list_with_filled_template()  \n",
    "m = Markdown(txt)\n",
    "resultsHandle.update(m)\n",
    "display(m)\n",
    "display(Markdown(\"[Play again](#Play-Red-Hat-Libs)\"))"
   ]
  },
  {
   "cell_type": "code",
   "execution_count": null,
   "metadata": {},
   "outputs": [],
   "source": []
  }
 ],
 "metadata": {
  "kernelspec": {
   "display_name": "Python 3",
   "language": "python",
   "name": "python3"
  },
  "language_info": {
   "codemirror_mode": {
    "name": "ipython",
    "version": 3
   },
   "file_extension": ".py",
   "mimetype": "text/x-python",
   "name": "python",
   "nbconvert_exporter": "python",
   "pygments_lexer": "ipython3",
   "version": "3.6.3"
  }
 },
 "nbformat": 4,
 "nbformat_minor": 4
}
