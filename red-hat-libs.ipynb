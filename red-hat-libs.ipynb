{
 "cells": [
  {
   "cell_type": "markdown",
   "metadata": {},
   "source": [
    "# Red Hat Libs\n",
    "\n",
    "From an arbitrary English text, produce a __Mad Libs__-style result: Replace some parts of speech in the original text with corresponding parts of speech from a dictionary. The number of blanks — that is, the number of words that will be replaced from words in the dictionary — is controlled by the **Madness** setting.\n",
    "\n",
    "## What's going on here?\n",
    "\n",
    "This example uses the NLTK library to [tokenize and tag parts of speech](#Tag-the-parts-of-speech). Next, we [choose which words to turn into blanks](#Create-blanks-in-the-tagged-text). Then we [choose replacement words from the dictionary](#Choose-replacement-words-from-the-dictionary) and [display the resulting combined text](#Display-the-original-text-with-the-chosen-substitutions)."
   ]
  },
  {
   "cell_type": "code",
   "execution_count": 406,
   "metadata": {},
   "outputs": [
    {
     "name": "stdout",
     "output_type": "stream",
     "text": [
      "Requirement already satisfied: nltk in /opt/app-root/lib/python3.6/site-packages (3.5)\n",
      "Requirement already satisfied: joblib in /opt/app-root/lib/python3.6/site-packages (from nltk) (0.13.2)\n",
      "Requirement already satisfied: click in /opt/app-root/lib/python3.6/site-packages (from nltk) (7.0)\n",
      "Requirement already satisfied: tqdm in /opt/app-root/lib/python3.6/site-packages (from nltk) (4.54.1)\n",
      "Requirement already satisfied: regex in /opt/app-root/lib/python3.6/site-packages (from nltk) (2020.11.13)\n",
      "\u001b[33mWARNING: You are using pip version 19.2.1, however version 20.3.3 is available.\n",
      "You should consider upgrading via the 'pip install --upgrade pip' command.\u001b[0m\n",
      "Note: you may need to restart the kernel to use updated packages.\n"
     ]
    }
   ],
   "source": [
    "pip install nltk"
   ]
  },
  {
   "cell_type": "code",
   "execution_count": 407,
   "metadata": {},
   "outputs": [
    {
     "name": "stderr",
     "output_type": "stream",
     "text": [
      "[nltk_data] Downloading package tagsets to /opt/app-\n",
      "[nltk_data]     root/src/nltk_data...\n",
      "[nltk_data]   Package tagsets is already up-to-date!\n",
      "[nltk_data] Downloading package punkt to /opt/app-\n",
      "[nltk_data]     root/src/nltk_data...\n",
      "[nltk_data]   Package punkt is already up-to-date!\n",
      "[nltk_data] Downloading package averaged_perceptron_tagger to\n",
      "[nltk_data]     /opt/app-root/src/nltk_data...\n",
      "[nltk_data]   Package averaged_perceptron_tagger is already up-to-\n",
      "[nltk_data]       date!\n"
     ]
    }
   ],
   "source": [
    "# Set up the environment\n",
    "import nltk\n",
    "\n",
    "import ipywidgets as widgets\n",
    "from ipywidgets import interact\n",
    "from IPython import get_ipython\n",
    "from IPython.display import display\n",
    "from IPython.display import Javascript\n",
    "\n",
    "defaultSourceText = \"\"\"Oh say can you see, by the dawn's early light, what so proudly we hailed at the twilight's last gleaming?\"\"\"\n",
    "defaultDictionaryName = \"shakespeareDict.txt\"\n",
    "\n",
    "if get_ipython():\n",
    "    nltk.download('tagsets')\n",
    "    nltk.download('punkt')\n",
    "    nltk.download('averaged_perceptron_tagger')\n",
    "    \n",
    "# populate the user-friendly terminology for parts of speech\n",
    "posDict = {}\n",
    "with open(\"nltk-tagsets-pos.txt\") as f:\n",
    "    for line in f:\n",
    "        row = line.split(\" : \")\n",
    "        key = row[0]\n",
    "        val = row[1]\n",
    "        posDict[key] = val.strip()\n",
    "      \n",
    "def human_readable_pos_tagged_tuple( tupe ): # a tuple\n",
    "    word, pos = tupe\n",
    "    if pos in posDict:\n",
    "        pos = posDict[pos]\n",
    "    else:\n",
    "        pos = \"stet\"\n",
    "    return ( word, pos )\n",
    "\n",
    "pos_tagged_list = list()\n",
    "template = list()\n",
    "filled_template = list()\n",
    "\n",
    "# set up UI elements\n",
    "madnessSlider = widgets.IntSlider(min=0, max=10, step=1, description='Madness:', value=3)\n",
    "sourceTextInput = widgets.Textarea(value=defaultSourceText, description='Source text:')\n",
    "sourceTextInput.layout.height = '130px'\n",
    "sourceTextInput.layout.width = '100%'"
   ]
  },
  {
   "cell_type": "markdown",
   "metadata": {},
   "source": [
    "## Tag the parts of speech"
   ]
  },
  {
   "cell_type": "code",
   "execution_count": 408,
   "metadata": {},
   "outputs": [
    {
     "data": {
      "application/vnd.jupyter.widget-view+json": {
       "model_id": "fc11acfae2f14cae986222374b5938e3",
       "version_major": 2,
       "version_minor": 0
      },
      "text/html": [
       "<p>Failed to display Jupyter Widget of type <code>Textarea</code>.</p>\n",
       "<p>\n",
       "  If you're reading this message in the Jupyter Notebook or JupyterLab Notebook, it may mean\n",
       "  that the widgets JavaScript is still loading. If this message persists, it\n",
       "  likely means that the widgets JavaScript library is either not installed or\n",
       "  not enabled. See the <a href=\"https://ipywidgets.readthedocs.io/en/stable/user_install.html\">Jupyter\n",
       "  Widgets Documentation</a> for setup instructions.\n",
       "</p>\n",
       "<p>\n",
       "  If you're reading this message in another frontend (for example, a static\n",
       "  rendering on GitHub or <a href=\"https://nbviewer.jupyter.org/\">NBViewer</a>),\n",
       "  it may mean that your frontend doesn't currently support widgets.\n",
       "</p>\n"
      ],
      "text/plain": [
       "Textarea(value=\"Oh say can you see, by the dawn's early light, what so proudly we hailed at the twilight's last gleaming?\", description='Source text:', layout=Layout(height='130px', width='100%'))"
      ]
     },
     "metadata": {},
     "output_type": "display_data"
    },
    {
     "data": {
      "application/vnd.jupyter.widget-view+json": {
       "model_id": "c8572b7830df4b388636445ff7710c12",
       "version_major": 2,
       "version_minor": 0
      },
      "text/html": [
       "<p>Failed to display Jupyter Widget of type <code>IntSlider</code>.</p>\n",
       "<p>\n",
       "  If you're reading this message in the Jupyter Notebook or JupyterLab Notebook, it may mean\n",
       "  that the widgets JavaScript is still loading. If this message persists, it\n",
       "  likely means that the widgets JavaScript library is either not installed or\n",
       "  not enabled. See the <a href=\"https://ipywidgets.readthedocs.io/en/stable/user_install.html\">Jupyter\n",
       "  Widgets Documentation</a> for setup instructions.\n",
       "</p>\n",
       "<p>\n",
       "  If you're reading this message in another frontend (for example, a static\n",
       "  rendering on GitHub or <a href=\"https://nbviewer.jupyter.org/\">NBViewer</a>),\n",
       "  it may mean that your frontend doesn't currently support widgets.\n",
       "</p>\n"
      ],
      "text/plain": [
       "IntSlider(value=3, description='Madness:', max=10)"
      ]
     },
     "metadata": {},
     "output_type": "display_data"
    },
    {
     "data": {
      "application/vnd.jupyter.widget-view+json": {
       "model_id": "0d568cdb155a4bcda10e53fd1d6ea0fb",
       "version_major": 2,
       "version_minor": 0
      },
      "text/html": [
       "<p>Failed to display Jupyter Widget of type <code>Button</code>.</p>\n",
       "<p>\n",
       "  If you're reading this message in the Jupyter Notebook or JupyterLab Notebook, it may mean\n",
       "  that the widgets JavaScript is still loading. If this message persists, it\n",
       "  likely means that the widgets JavaScript library is either not installed or\n",
       "  not enabled. See the <a href=\"https://ipywidgets.readthedocs.io/en/stable/user_install.html\">Jupyter\n",
       "  Widgets Documentation</a> for setup instructions.\n",
       "</p>\n",
       "<p>\n",
       "  If you're reading this message in another frontend (for example, a static\n",
       "  rendering on GitHub or <a href=\"https://nbviewer.jupyter.org/\">NBViewer</a>),\n",
       "  it may mean that your frontend doesn't currently support widgets.\n",
       "</p>\n"
      ],
      "text/plain": [
       "Button(description='Click to tag the source text (and run all subsequent steps)', layout=Layout(width='400px'), style=ButtonStyle())"
      ]
     },
     "metadata": {},
     "output_type": "display_data"
    },
    {
     "data": {
      "application/vnd.jupyter.widget-view+json": {
       "model_id": "0dfb033b9faf4b8fa438a84bb619b306",
       "version_major": 2,
       "version_minor": 0
      },
      "text/html": [
       "<p>Failed to display Jupyter Widget of type <code>Output</code>.</p>\n",
       "<p>\n",
       "  If you're reading this message in the Jupyter Notebook or JupyterLab Notebook, it may mean\n",
       "  that the widgets JavaScript is still loading. If this message persists, it\n",
       "  likely means that the widgets JavaScript library is either not installed or\n",
       "  not enabled. See the <a href=\"https://ipywidgets.readthedocs.io/en/stable/user_install.html\">Jupyter\n",
       "  Widgets Documentation</a> for setup instructions.\n",
       "</p>\n",
       "<p>\n",
       "  If you're reading this message in another frontend (for example, a static\n",
       "  rendering on GitHub or <a href=\"https://nbviewer.jupyter.org/\">NBViewer</a>),\n",
       "  it may mean that your frontend doesn't currently support widgets.\n",
       "</p>\n"
      ],
      "text/plain": [
       "Output()"
      ]
     },
     "metadata": {},
     "output_type": "display_data"
    }
   ],
   "source": [
    "import time\n",
    "\n",
    "blankButton = widgets.Button(description=\"Click to choose blanks (and run all subsequent steps)\")\n",
    "displayButton = widgets.Button()\n",
    "\n",
    "def tag_parts_of_speech(sourceText=defaultSourceText):\n",
    "\n",
    "    Sentence = nltk.word_tokenize(sourceText)\n",
    "    posTagged = nltk.pos_tag(Sentence)\n",
    "\n",
    "    resultList = map(human_readable_pos_tagged_tuple, posTagged)\n",
    "    return list(resultList)\n",
    "\n",
    "\n",
    "display(sourceTextInput)\n",
    "display(madnessSlider)\n",
    "\n",
    "tagButton = widgets.Button(description=\"Click to tag the source text (and run all subsequent steps)\")\n",
    "tagButton.layout.width = '400px'\n",
    "output1 = widgets.Output()\n",
    "display(tagButton, output1)\n",
    "\n",
    "def on_tag_button_clicked(b):\n",
    "    new_tags = tag_parts_of_speech(sourceTextInput.value)\n",
    "    pos_tagged_list.clear()\n",
    "    pos_tagged_list.extend(new_tags)\n",
    "    with output1:\n",
    "        print(\"--- \" + time.ctime())\n",
    "        print(pos_tagged_list)\n",
    "        on_blank_button_clicked(blankButton)\n",
    "        #display(Javascript('IPython.notebook.execute_cells_below()'))\n",
    "        \n",
    "tagButton.on_click(on_tag_button_clicked)\n",
    "#on_tag_button_clicked(tagButton)\n"
   ]
  },
  {
   "cell_type": "markdown",
   "metadata": {},
   "source": [
    "## Create blanks in the tagged text\n",
    "\n",
    "The **Madness** setting controls how many blanks will be created."
   ]
  },
  {
   "cell_type": "code",
   "execution_count": 465,
   "metadata": {
    "scrolled": true
   },
   "outputs": [
    {
     "data": {
      "application/vnd.jupyter.widget-view+json": {
       "model_id": "c8572b7830df4b388636445ff7710c12",
       "version_major": 2,
       "version_minor": 0
      },
      "text/html": [
       "<p>Failed to display Jupyter Widget of type <code>IntSlider</code>.</p>\n",
       "<p>\n",
       "  If you're reading this message in the Jupyter Notebook or JupyterLab Notebook, it may mean\n",
       "  that the widgets JavaScript is still loading. If this message persists, it\n",
       "  likely means that the widgets JavaScript library is either not installed or\n",
       "  not enabled. See the <a href=\"https://ipywidgets.readthedocs.io/en/stable/user_install.html\">Jupyter\n",
       "  Widgets Documentation</a> for setup instructions.\n",
       "</p>\n",
       "<p>\n",
       "  If you're reading this message in another frontend (for example, a static\n",
       "  rendering on GitHub or <a href=\"https://nbviewer.jupyter.org/\">NBViewer</a>),\n",
       "  it may mean that your frontend doesn't currently support widgets.\n",
       "</p>\n"
      ],
      "text/plain": [
       "IntSlider(value=1, description='Madness:', max=10)"
      ]
     },
     "metadata": {},
     "output_type": "display_data"
    },
    {
     "data": {
      "application/vnd.jupyter.widget-view+json": {
       "model_id": "0af8b9d7106d4b8291f2e913c2fa1d91",
       "version_major": 2,
       "version_minor": 0
      },
      "text/html": [
       "<p>Failed to display Jupyter Widget of type <code>Button</code>.</p>\n",
       "<p>\n",
       "  If you're reading this message in the Jupyter Notebook or JupyterLab Notebook, it may mean\n",
       "  that the widgets JavaScript is still loading. If this message persists, it\n",
       "  likely means that the widgets JavaScript library is either not installed or\n",
       "  not enabled. See the <a href=\"https://ipywidgets.readthedocs.io/en/stable/user_install.html\">Jupyter\n",
       "  Widgets Documentation</a> for setup instructions.\n",
       "</p>\n",
       "<p>\n",
       "  If you're reading this message in another frontend (for example, a static\n",
       "  rendering on GitHub or <a href=\"https://nbviewer.jupyter.org/\">NBViewer</a>),\n",
       "  it may mean that your frontend doesn't currently support widgets.\n",
       "</p>\n"
      ],
      "text/plain": [
       "Button(description='Click to choose blanks (and run all subsequent steps)', layout=Layout(width='350px'), style=ButtonStyle())"
      ]
     },
     "metadata": {},
     "output_type": "display_data"
    },
    {
     "data": {
      "application/vnd.jupyter.widget-view+json": {
       "model_id": "597d3d5f8b74439ca113cc9dbd1f0327",
       "version_major": 2,
       "version_minor": 0
      },
      "text/html": [
       "<p>Failed to display Jupyter Widget of type <code>Output</code>.</p>\n",
       "<p>\n",
       "  If you're reading this message in the Jupyter Notebook or JupyterLab Notebook, it may mean\n",
       "  that the widgets JavaScript is still loading. If this message persists, it\n",
       "  likely means that the widgets JavaScript library is either not installed or\n",
       "  not enabled. See the <a href=\"https://ipywidgets.readthedocs.io/en/stable/user_install.html\">Jupyter\n",
       "  Widgets Documentation</a> for setup instructions.\n",
       "</p>\n",
       "<p>\n",
       "  If you're reading this message in another frontend (for example, a static\n",
       "  rendering on GitHub or <a href=\"https://nbviewer.jupyter.org/\">NBViewer</a>),\n",
       "  it may mean that your frontend doesn't currently support widgets.\n",
       "</p>\n"
      ],
      "text/plain": [
       "Output()"
      ]
     },
     "metadata": {},
     "output_type": "display_data"
    }
   ],
   "source": [
    "display(madnessSlider)\n",
    "\n",
    "import random\n",
    "\n",
    "def is_non_stet_pos_tuple( tupe ):\n",
    "    return 1 * ( tupe[1] != \"stet\")\n",
    "\n",
    "def indexed_pos_tuple(tupe, num ):\n",
    "    return ( num, tupe[1] )\n",
    "\n",
    "def create_blanks_from_pos_tagged_list(madness):\n",
    "    indexed_list = map(indexed_pos_tuple, pos_tagged_list, range(len(pos_tagged_list)))\n",
    "    \n",
    "    indexed_pos_list = map(indexed_pos_tuple, pos_tagged_list, range(len(pos_tagged_list)))\n",
    "    non_stet_indexed_pos_list = list(filter(is_non_stet_pos_tuple, indexed_pos_list))\n",
    "    num_candidates = len(non_stet_indexed_pos_list)\n",
    "    blanks = list()\n",
    "    if (madness > 10): # error avoidance\n",
    "        madness = 10\n",
    "    if (madness > 0):\n",
    "        num_desired_blanks = int(float(madness/10) * num_candidates)\n",
    "        blanks = random.sample(non_stet_indexed_pos_list, num_desired_blanks)\n",
    "        blanks.sort(key = lambda tup: tup[0])\n",
    "\n",
    "    return blanks\n",
    "\n",
    "blankButton.layout.width = '350px'\n",
    "output2 = widgets.Output()\n",
    "display(blankButton, output2)\n",
    "\n",
    "def on_blank_button_clicked(b):\n",
    "    new_template = create_blanks_from_pos_tagged_list(madnessSlider.value)\n",
    "    template.clear()\n",
    "    template.extend(new_template)\n",
    "    with output2:\n",
    "        print(\"--- \" + time.ctime())\n",
    "        print(template)\n",
    "        show_result(displayButton)\n",
    "        #display(Javascript('IPython.notebook.execute_cell_range(IPython.notebook.get_selected_index()+1, IPython.notebook.get_selected_index()+2)'))\n",
    "        \n",
    "blankButton.on_click(on_blank_button_clicked)\n",
    "#on_blank_button_clicked(blankButton)"
   ]
  },
  {
   "cell_type": "markdown",
   "metadata": {},
   "source": [
    "## Choose replacement words from the dictionary"
   ]
  },
  {
   "cell_type": "code",
   "execution_count": 474,
   "metadata": {},
   "outputs": [
    {
     "name": "stdout",
     "output_type": "stream",
     "text": [
      "Dictionary shakespeareDict.txt has 74 entries for exclamation\n",
      "Dictionary shakespeareDict.txt has 262 entries for comparitive adjective\n",
      "Dictionary shakespeareDict.txt has 2450 entries for verb, past participle\n",
      "Dictionary shakespeareDict.txt has 4875 entries for plural noun\n",
      "Dictionary shakespeareDict.txt has 2516 entries for verb (3rd person singular, present tense)\n",
      "Dictionary shakespeareDict.txt has 12982 entries for noun (singular)\n",
      "Dictionary shakespeareDict.txt has 7695 entries for proper noun (singular)\n",
      "Dictionary shakespeareDict.txt has 651 entries for preposition\n",
      "Dictionary shakespeareDict.txt has 1986 entries for past tense verb\n",
      "Dictionary shakespeareDict.txt has 221 entries for proper noun (plural)\n",
      "Dictionary shakespeareDict.txt has 950 entries for stet\n",
      "Dictionary shakespeareDict.txt has 8947 entries for adjective\n",
      "Dictionary shakespeareDict.txt has 15 entries for superlative adverb\n",
      "Dictionary shakespeareDict.txt has 51 entries for comparative adverb\n",
      "Dictionary shakespeareDict.txt has 302 entries for superlative adjective\n",
      "Dictionary shakespeareDict.txt has 592 entries for number\n",
      "Dictionary shakespeareDict.txt has 1973 entries for adverb\n",
      "Dictionary shakespeareDict.txt has 5516 entries for verb\n",
      "Dictionary shakespeareDict.txt has 1434 entries for verb ending in 'ing'\n"
     ]
    }
   ],
   "source": [
    "dictionary = {}\n",
    "\n",
    "# load the dictionary\n",
    "def load_dictionary(file_name=defaultDictionaryName):\n",
    "    new_dict = {}\n",
    "    with open(file_name) as f:\n",
    "        for line in f:\n",
    "            if (line == \"<dictionary>\\n\" or line == \"</dictionary>\\n\"):\n",
    "                continue\n",
    "            row = line.split(\" : \")\n",
    "            key = row[0]\n",
    "            val = row[1]\n",
    "            new_dict[key] = val.split(\", \")\n",
    "    dictionary.clear()\n",
    "    dictionary.update(new_dict)\n",
    "    for entry in dictionary:\n",
    "        print(\"Dictionary \" + file_name + \" has \" + str(len(dictionary[entry])) + \" entries for \" + entry)\n",
    "        \n",
    "load_dictionary() "
   ]
  },
  {
   "cell_type": "code",
   "execution_count": 475,
   "metadata": {},
   "outputs": [
    {
     "name": "stdout",
     "output_type": "stream",
     "text": [
      "[(0, \"'D\", 'exclamation'), (6, 'DROWN', 'preposition'), (8, 'TOPGALLANT', 'noun (singular)'), (10, 'RAIN', 'adjective'), (11, \"WEAR'ST\", 'noun (singular)'), (14, 'ADVERSELY', 'adverb'), (15, 'TILL', 'adverb'), (18, 'UNDOES', 'preposition'), (20, 'SLIMY', 'noun (singular)'), (22, 'UNPOLISHED', 'adjective'), (23, 'HANDSOMENESS', 'noun (singular)')]\n"
     ]
    }
   ],
   "source": [
    "def choose_replacements_from_dictionary():\n",
    "    new_choices = list()\n",
    "    pos_counts = {}\n",
    "    for tupe in template:\n",
    "        pos = tupe[1]\n",
    "        if pos in pos_counts:\n",
    "            pos_counts[pos] = pos_counts[pos] + 1\n",
    "        else:\n",
    "            pos_counts[pos] = 1\n",
    "    \n",
    "    chosen_pos = {}\n",
    "    for requested_pos in pos_counts:\n",
    "        chosen_pos[requested_pos] = random.sample(dictionary[requested_pos], pos_counts[requested_pos])\n",
    "    \n",
    "    for tupe in template:\n",
    "        new_choices.append( ( tupe[0], chosen_pos[tupe[1]].pop(), tupe[1] ) )\n",
    "    filled_template.clear()\n",
    "    filled_template.extend(new_choices)\n",
    "    \n",
    "choose_replacements_from_dictionary()\n",
    "print(filled_template)"
   ]
  },
  {
   "cell_type": "markdown",
   "metadata": {},
   "source": [
    "## Display the original text with the chosen substitutions"
   ]
  },
  {
   "cell_type": "code",
   "execution_count": 478,
   "metadata": {},
   "outputs": [],
   "source": [
    "from IPython.display import Markdown, display\n",
    "\n",
    "blankDelim = \"<u>&nbsp;&nbsp;&nbsp;\"\n",
    "blankEndDelim=\"&nbsp;&nbsp;&nbsp;</u>\"\n",
    "def fill_pos_tagged_list_with_filled_template():\n",
    "    text = \"\"\n",
    "    wordIdx = 0\n",
    "    blankIdx = 0\n",
    "    nextBlank = 0\n",
    "    if (len(filled_template) > 0):\n",
    "        nextBlank = filled_template[blankIdx][0]\n",
    "    for tupe in pos_tagged_list:\n",
    "        word = tupe[0]\n",
    "        delim = \"\"\n",
    "        endDelim = \"\"\n",
    "        if (wordIdx == nextBlank):\n",
    "            if (len(filled_template[blankIdx]) == 2): # it's an empty template, no filled words chosen\n",
    "                delim = blankDelim\n",
    "                endDelim = blankEndDelim\n",
    "            word = filled_template[blankIdx][1]\n",
    "            blankIdx += 1\n",
    "            if (blankIdx < len(filled_template)):\n",
    "                nextBlank = filled_template[blankIdx][0]\n",
    "            else:\n",
    "                nextBlank = -1\n",
    "        text = text + delim + word + endDelim + \" \"\n",
    "        wordIdx += 1\n",
    "\n",
    "    return text\n",
    "\n",
    "output3 = widgets.Output()\n",
    "\n",
    "def show_result(b):\n",
    "    choose_replacements_from_dictionary()\n",
    "    txt = fill_pos_tagged_list_with_filled_template()\n",
    "    print(\"--- \" + time.ctime(), output3)    \n",
    "    display(Markdown(txt), output3)\n",
    "\n",
    "displayButton.on_click(show_result)"
   ]
  },
  {
   "cell_type": "code",
   "execution_count": 479,
   "metadata": {},
   "outputs": [
    {
     "name": "stdout",
     "output_type": "stream",
     "text": [
      "--- Wed Dec 16 10:15:57 2020 Output()\n"
     ]
    },
    {
     "data": {
      "text/markdown": [
       "HOLD BOWES can you FAWNETH , by the SYNAGOGUE 's early PERT , what so proudly we hailed BAD'ST the twilight 's UNCAUGHT SHIN ? "
      ],
      "text/plain": [
       "<IPython.core.display.Markdown object>"
      ]
     },
     "metadata": {},
     "output_type": "display_data"
    },
    {
     "data": {
      "application/vnd.jupyter.widget-view+json": {
       "model_id": "81286e7c2f6f47cb9544616e383fd3c0",
       "version_major": 2,
       "version_minor": 0
      },
      "text/html": [
       "<p>Failed to display Jupyter Widget of type <code>Output</code>.</p>\n",
       "<p>\n",
       "  If you're reading this message in the Jupyter Notebook or JupyterLab Notebook, it may mean\n",
       "  that the widgets JavaScript is still loading. If this message persists, it\n",
       "  likely means that the widgets JavaScript library is either not installed or\n",
       "  not enabled. See the <a href=\"https://ipywidgets.readthedocs.io/en/stable/user_install.html\">Jupyter\n",
       "  Widgets Documentation</a> for setup instructions.\n",
       "</p>\n",
       "<p>\n",
       "  If you're reading this message in another frontend (for example, a static\n",
       "  rendering on GitHub or <a href=\"https://nbviewer.jupyter.org/\">NBViewer</a>),\n",
       "  it may mean that your frontend doesn't currently support widgets.\n",
       "</p>\n"
      ],
      "text/plain": [
       "Output()"
      ]
     },
     "metadata": {},
     "output_type": "display_data"
    }
   ],
   "source": [
    "show_result(None)"
   ]
  },
  {
   "cell_type": "code",
   "execution_count": null,
   "metadata": {},
   "outputs": [],
   "source": []
  }
 ],
 "metadata": {
  "kernelspec": {
   "display_name": "Python 3",
   "language": "python",
   "name": "python3"
  },
  "language_info": {
   "codemirror_mode": {
    "name": "ipython",
    "version": 3
   },
   "file_extension": ".py",
   "mimetype": "text/x-python",
   "name": "python",
   "nbconvert_exporter": "python",
   "pygments_lexer": "ipython3",
   "version": "3.6.3"
  }
 },
 "nbformat": 4,
 "nbformat_minor": 4
}
