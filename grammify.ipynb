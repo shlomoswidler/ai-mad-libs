{
 "cells": [
  {
   "cell_type": "markdown",
   "metadata": {},
   "source": [
    "# Tag the parts of speech of a source text, using the NLTK library\n",
    "\n",
    "This file is built to serve a dual-purpose: As a Jupyter Notebook or standalone.\n",
    "\n",
    "### Running standalone\n",
    "When run from the command line, the source text is read in from the filename(s) specified as arguments.\n",
    "\n",
    "#### Converting the Jyputer Notebook .ipynb file to a standalone .py script file\n",
    "Convert this file into a standalone python script using the `ipynb2py.py` tool, to be executed from the command line.\n",
    "\n",
    "### Running inside a Jupyter Notebook\n",
    "The source text is specified inline in the second cell. You may need to uncomment the `pip install nltk`, the first line in the second cell, if the package is not found."
   ]
  },
  {
   "cell_type": "code",
   "execution_count": null,
   "metadata": {},
   "outputs": [],
   "source": [
    "#pip install nltk\n",
    "from IPython import get_ipython\n",
    "import nltk\n",
    "\n",
    "if get_ipython():\n",
    "    nltk.download('tagsets')\n",
    "    nltk.download('punkt')\n",
    "    nltk.download('averaged_perceptron_tagger')\n",
    "    sourceText = \"\"\"Oh say can you see, by the dawn's early light, what so proudly we hailed at the twilight's last gleaming?\"\"\""
   ]
  },
  {
   "cell_type": "code",
   "execution_count": null,
   "metadata": {},
   "outputs": [],
   "source": [
    "# load the user-friendly terminology for parts of speech\n",
    "posDict = {}\n",
    "with open(\"nltk-tagsets-pos.txt\") as f:\n",
    "    for line in f:\n",
    "        row = line.split(\" : \")\n",
    "        key = row[0]\n",
    "        val = row[1]\n",
    "        posDict[key] = val.strip()\n",
    "\n",
    "import sys\n",
    "from IPython import get_ipython\n",
    "\n",
    "if get_ipython():\n",
    "    # Running inside a Jupyter Notebook, use this text\n",
    "    sourceText = sourceText\n",
    "else:\n",
    "    # Running in python, load text from file(s) specified on the command line\n",
    "    if (len(sys.argv)<2):\n",
    "        print(\"missing input filename(s)\")\n",
    "        sys.exit()\n",
    "    args = sys.argv[1:]\n",
    "\n",
    "    sourceText = \"\"\n",
    "    for inputFile in args:\n",
    "        file = open(inputFile)\n",
    "        text = file.read()\n",
    "        file.close()\n",
    "        if sourceText==\"\":\n",
    "            sourceText = text\n",
    "        else:\n",
    "            sourceText = sourceText + \"\\n\" + text\n",
    "\n",
    "# tag the parts of speech\n",
    "Sentence = nltk.word_tokenize(sourceText)\n",
    "posTagged = nltk.pos_tag(Sentence)\n",
    "\n",
    "x = 0\n",
    "while x < len(posTagged):\n",
    "    word, pos = posTagged[x]\n",
    "    if pos in posDict:\n",
    "        pos = posDict[pos]\n",
    "    else:\n",
    "        pos = \"stet\"\n",
    "    print(word + \" : \" + pos)\n",
    "    x = x + 1"
   ]
  },
  {
   "cell_type": "code",
   "execution_count": null,
   "metadata": {},
   "outputs": [],
   "source": []
  }
 ],
 "metadata": {
  "kernelspec": {
   "display_name": "Python 3",
   "language": "python",
   "name": "python3"
  },
  "language_info": {
   "codemirror_mode": {
    "name": "ipython",
    "version": 3
   },
   "file_extension": ".py",
   "mimetype": "text/x-python",
   "name": "python",
   "nbconvert_exporter": "python",
   "pygments_lexer": "ipython3",
   "version": "3.6.3"
  }
 },
 "nbformat": 4,
 "nbformat_minor": 4
}
